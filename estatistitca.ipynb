{
  "nbformat": 4,
  "nbformat_minor": 0,
  "metadata": {
    "colab": {
      "provenance": [],
      "mount_file_id": "1Es_DRZyyj7WkwHJpYI8eM1dDfEKYvxPm",
      "authorship_tag": "ABX9TyPmexDKYF5RisUgwFf6aMBm",
      "include_colab_link": true
    },
    "kernelspec": {
      "name": "python3",
      "display_name": "Python 3"
    },
    "language_info": {
      "name": "python"
    }
  },
  "cells": [
    {
      "cell_type": "markdown",
      "metadata": {
        "id": "view-in-github",
        "colab_type": "text"
      },
      "source": [
        "<a href=\"https://colab.research.google.com/github/HelouiseDayane/python-estatistica/blob/main/estatistitca.ipynb\" target=\"_parent\"><img src=\"https://colab.research.google.com/assets/colab-badge.svg\" alt=\"Open In Colab\"/></a>"
      ]
    },
    {
      "cell_type": "code",
      "source": [
        "import pandas as pd\n",
        "data1 = pd.Series([10,2,15,11,9,3,7,15,12,5,8])\n",
        "\n",
        "sorted_data1 = data1.sort_values()\n",
        "mediana = sorted_data1.median()\n",
        "media = sorted_data1.mean()\n",
        "moda = sorted_data1.mode()\n",
        "desvio_padrao = sorted_data1.std()\n",
        "variancia = sorted_data1.var()\n",
        "amplitude_total  = (sorted_data1.max() - sorted_data1.min())\n",
        "primeiro_quartil = round(sorted_data1.quantile(0.25))\n",
        "segundo_quartil = round(sorted_data1.quantile(0.75))\n",
        "print ([mediana, media, moda, desvio_padrao, variancia, amplitude_total, primeiro_quartil, segundo_quartil])\n",
        "print(sorted_data1)\n",
        "\n",
        "sorted_data1.describe()"
      ],
      "metadata": {
        "colab": {
          "base_uri": "https://localhost:8080/"
        },
        "id": "CWOUjXveFF-g",
        "outputId": "0bc0e2f2-7997-4fab-ec83-bd8f3d08c01f"
      },
      "execution_count": 1,
      "outputs": [
        {
          "output_type": "stream",
          "name": "stdout",
          "text": [
            "[9.0, 8.818181818181818, 0    15\n",
            "dtype: int64, 4.37762908017986, 19.163636363636364, 13, 6, 12]\n",
            "1      2\n",
            "5      3\n",
            "9      5\n",
            "6      7\n",
            "10     8\n",
            "4      9\n",
            "0     10\n",
            "3     11\n",
            "8     12\n",
            "2     15\n",
            "7     15\n",
            "dtype: int64\n"
          ]
        },
        {
          "output_type": "execute_result",
          "data": {
            "text/plain": [
              "count    11.000000\n",
              "mean      8.818182\n",
              "std       4.377629\n",
              "min       2.000000\n",
              "25%       6.000000\n",
              "50%       9.000000\n",
              "75%      11.500000\n",
              "max      15.000000\n",
              "dtype: float64"
            ]
          },
          "metadata": {},
          "execution_count": 1
        }
      ]
    }
  ]
}