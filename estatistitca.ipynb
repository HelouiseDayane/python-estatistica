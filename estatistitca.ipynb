{
  "nbformat": 4,
  "nbformat_minor": 0,
  "metadata": {
    "colab": {
      "provenance": [],
      "mount_file_id": "1Es_DRZyyj7WkwHJpYI8eM1dDfEKYvxPm",
      "authorship_tag": "ABX9TyOqZoS1Dpwwrb1/xaSlmTTg",
      "include_colab_link": true
    },
    "kernelspec": {
      "name": "python3",
      "display_name": "Python 3"
    },
    "language_info": {
      "name": "python"
    }
  },
  "cells": [
    {
      "cell_type": "markdown",
      "metadata": {
        "id": "view-in-github",
        "colab_type": "text"
      },
      "source": [
        "<a href=\"https://colab.research.google.com/github/HelouiseDayane/python-estatistica/blob/main/estatistitca.ipynb\" target=\"_parent\"><img src=\"https://colab.research.google.com/assets/colab-badge.svg\" alt=\"Open In Colab\"/></a>"
      ]
    },
    {
      "cell_type": "code",
      "source": [
        "import pandas as pd\n",
        "data1 = pd.Series([10,2,15,11,9,3,7,15,12,5,8])\n",
        "\n",
        "sorted_data1 = data1.sort_values()\n",
        "mediana = sorted_data1.median()\n",
        "media = sorted_data1.mean()\n",
        "moda = sorted_data1.mode()\n",
        "desvio_padrao = sorted_data1.std()\n",
        "variancia = sorted_data1.var()\n",
        "amplitude_total  = (sorted_data1.max() - sorted_data1.min())\n",
        "primeiro_quartil = round(sorted_data1.quantile(0.25))\n",
        "segundo_quartil = round(sorted_data1.quantile(0.75))\n",
        "print ([mediana, media, moda, desvio_padrao, variancia, amplitude_total, primeiro_quartil, segundo_quartil])\n",
        "print(sorted_data1)\n",
        "\n",
        "sorted_data1.describe()"
      ],
      "metadata": {
        "id": "CWOUjXveFF-g"
      },
      "execution_count": null,
      "outputs": []
    },
    {
      "cell_type": "markdown",
      "source": [
        "Regresao linear simples"
      ],
      "metadata": {
        "id": "M_AwSzpe9UFt"
      }
    },
    {
      "cell_type": "code",
      "source": [
        "import pandas as pd\n",
        "import numpy as np\n",
        "\n",
        "import matplotlib.pyplot as plt\n",
        "from sklearn.linear_model import LinearRegression\n",
        "from sklearn.model_selection import train_test_split\n",
        "from sklearn.metrics import r2_score\n",
        "from scipy.stats import pearsonr\n",
        "\n",
        "eixoX = pd.Series([5,8,7,10,5,7,9,3,8,2])\n",
        "eixoY = pd.Series([6,9,8,10,5,7,8,4,6,2])\n",
        "eixoX_total = eixoX.sum()\n",
        "eixoY_total = eixoY.sum()\n",
        "total_xy = eixoX_total + eixoY_total\n",
        "eixoXY = [x*y for x,y in zip(eixoX,eixoY)]\n",
        "print(eixoXY)\n",
        "plt.scatter(eixoX, eixoY)\n",
        "plt.show()\n",
        "\n",
        "r = pearsonr(eixoX, eixoY)\n",
        "print(f'Coeficiente de correlação: {r}')\n",
        "\n"
      ],
      "metadata": {
        "colab": {
          "base_uri": "https://localhost:8080/",
          "height": 300
        },
        "id": "Qq3qxXo52c6U",
        "outputId": "1a68ad3f-5bdd-41d2-fe11-de0bce414d93"
      },
      "execution_count": 7,
      "outputs": [
        {
          "output_type": "stream",
          "name": "stdout",
          "text": [
            "[30, 72, 56, 100, 25, 49, 72, 12, 48, 4]\n"
          ]
        },
        {
          "output_type": "display_data",
          "data": {
            "text/plain": [
              "<Figure size 432x288 with 1 Axes>"
            ],
            "image/png": "[encoded data removed]"
          },
          "metadata": {
            "needs_background": "light"
          }
        },
        {
          "output_type": "stream",
          "name": "stdout",
          "text": [
            "Coeficiente de correlação: (0.9234326429715, 0.00013698714852035761)\n"
          ]
        }
      ]
    },
    {
      "cell_type": "markdown",
      "source": [
        "# *** Relação não deterministica***"
      ],
      "metadata": {
        "id": "e9Wyzb4Zh38G"
      }
    },
    {
      "cell_type": "code",
      "source": [
        "# importar pacotes necessários\n",
        "import numpy as np\n",
        "import matplotlib.pyplot as plt\n",
        "# exemplo de plots determinísticos\n",
        "np.random.seed(42)\n",
        "det_x = np.arange(0,10,0.1)\n",
        "det_y = 2 * det_x + 3\n",
        "# exemplo de plots não determinísticos\n",
        "non_det_x = np.arange(0, 10, 0.1)\n",
        "non_det_y = 2 * non_det_x + np.random.normal(size=100)\n",
        "# plotar determinísticos vs. não determinísticos\n",
        "fig, axs = plt.subplots(1, 2, figsize=(10,4), constrained_layout=True)\n",
        "axs[0].scatter(det_x, det_y, s=2)\n",
        "axs[0].set_title(\"Determinístico\")\n",
        "axs[1].scatter(non_det_x, non_det_y, s=2)\n",
        "axs[1].set_title(\"Não Determinístico\")\n",
        "plt.show()"
      ],
      "metadata": {
        "colab": {
          "base_uri": "https://localhost:8080/",
          "height": 313
        },
        "id": "1MpYOh4kiA7w",
        "outputId": "fd38e610-9fec-49a4-d2e4-79f723d07e2b"
      },
      "execution_count": 12,
      "outputs": [
        {
          "output_type": "display_data",
          "data": {
            "text/plain": [
              "<Figure size 720x288 with 2 Axes>"
            ],
            "image/png": "[encoded data removed]"
          },
          "metadata": {
            "needs_background": "light"
          }
        }
      ]
    },
    {
      "cell_type": "code",
      "source": [
        "\n",
        "import pandas as pd\n",
        "import numpy as np\n",
        "import matplotlib.pylab as plb\n",
        "import statsmodels.api as sm\n",
        "from statsmodels.formula.api import ols\n",
        "import seaborn as sns\n",
        "from statsmodels.graphics.gofplots import ProbPlot\n",
        "plb.style.use('seaborn')\n",
        "plb.rc('axes', titlesize=10) \n",
        "\n",
        "eixoX = pd.Series([5,8,7,10,5,7,9,3,8,2])\n",
        "eixoY = pd.Series([6,9,8,10,5,7,8,4,6,2])\n",
        "modelo = sm.OLS(eixoY, sm.add_constant(eixoX)).fit()\n",
        "plb.figure(figsize=(8, 4))\n",
        "plb.scatter(eixoX,eixoY)\n",
        "plb.plot(eixoX, modelo.predict(), color=\"r\")\n",
        "plb.xlabel(\"Matemática)\")\n",
        "plb.ylabel(\"Estatistica\")\n"
      ],
      "metadata": {
        "colab": {
          "base_uri": "https://localhost:8080/",
          "height": 351
        },
        "id": "wV6TQlT5jYBj",
        "outputId": "f12760c8-625e-49ae-e12b-5c12e90879c6"
      },
      "execution_count": 13,
      "outputs": [
        {
          "output_type": "stream",
          "name": "stderr",
          "text": [
            "/usr/local/lib/python3.8/dist-packages/statsmodels/tsa/tsatools.py:142: FutureWarning: In a future version of pandas all arguments of concat except for the argument 'objs' will be keyword-only\n",
            "  x = pd.concat(x[::order], 1)\n"
          ]
        },
        {
          "output_type": "execute_result",
          "data": {
            "text/plain": [
              "Text(0, 0.5, 'Estatistica')"
            ]
          },
          "metadata": {},
          "execution_count": 13
        },
        {
          "output_type": "display_data",
          "data": {
            "text/plain": [
              "<Figure size 576x288 with 1 Axes>"
            ],
            "image/png": "[encoded data removed]"
          },
          "metadata": {}
        }
      ]
    },
    {
      "cell_type": "markdown",
      "source": [
        "# **Probabilidade**"
      ],
      "metadata": {
        "id": "2FbBoG4gn91U"
      }
    },
    {
      "cell_type": "code",
      "source": [
        "# Probabilidade do evento A: \n",
        "probabilidade_a = 1/2\n",
        "# Probabilidade do evento B: \n",
        "probabilidade_b = 1/3\n",
        "# Probabilidade do evento ab: \n",
        "probabilidade_AB = 1/4\n",
        "# Probabilidade dos dois eventos\n",
        "probabilidade_ambos = probabilidade_a * probabilidade_b\n",
        "print(probabilidade_ambos)\n",
        "\n",
        "print(Fraction(probabilidade_ambos).limit_denominator())\n",
        "\n",
        "\n",
        "# Probabilidade de A dado B igual a P(A,B) / P(B)\n",
        "probabilidade_a_dado_b = probabilidade_ambos / probabilidade_5_ou_6\n",
        "print(probabilidade_a_dado_b)\n",
        "0.5\n",
        "print(Fraction(probabilidade_a_dado_b).limit_denominator())\n",
        "1/2"
      ],
      "metadata": {
        "id": "exmHxvlsoB9m"
      },
      "execution_count": null,
      "outputs": []
    }
  ]
}