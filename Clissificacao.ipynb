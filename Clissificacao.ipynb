{
  "nbformat": 4,
  "nbformat_minor": 0,
  "metadata": {
    "colab": {
      "provenance": [],
      "mount_file_id": "1rHLb8DO6xSLpfC1FYu4L-1RPqh7A3O9s",
      "authorship_tag": "ABX9TyNFtZ2QQf/95HZVw2A8FHyI",
      "include_colab_link": true
    },
    "kernelspec": {
      "name": "python3",
      "display_name": "Python 3"
    },
    "language_info": {
      "name": "python"
    }
  },
  "cells": [
    {
      "cell_type": "markdown",
      "metadata": {
        "id": "view-in-github",
        "colab_type": "text"
      },
      "source": [
        "<a href=\"https://colab.research.google.com/github/HelouiseDayane/python-estatistica/blob/main/Clissificacao.ipynb\" target=\"_parent\"><img src=\"https://colab.research.google.com/assets/colab-badge.svg\" alt=\"Open In Colab\"/></a>"
      ]
    },
    {
      "cell_type": "markdown",
      "source": [
        "# APRENDIZAGEM SUPERVISIONADA: CLASSIFICAÇÃO \n",
        "\n",
        "---\n",
        "##Pré processamento\n",
        "\n",
        "\n"
      ],
      "metadata": {
        "id": "ZRIHDgaO0O98"
      }
    },
    {
      "cell_type": "code",
      "source": [
        "import numpy as np\n",
        "import pandas as pd\n",
        "\n",
        "\n",
        "df = pd.read_csv('/content/drive/MyDrive/Colab Notebooks/heart_tratado.csv', sep=';',encoding='UTF-8')"
      ],
      "metadata": {
        "id": "nOu-XwqK0qn5"
      },
      "execution_count": 19,
      "outputs": []
    },
    {
      "cell_type": "code",
      "source": [
        "df.head()"
      ],
      "metadata": {
        "colab": {
          "base_uri": "https://localhost:8080/",
          "height": 270
        },
        "id": "4g8pC3I71Kf0",
        "outputId": "fde87ec7-e43d-4a2b-b8d6-37bcdd8bfe0b"
      },
      "execution_count": 34,
      "outputs": [
        {
          "output_type": "execute_result",
          "data": {
            "text/plain": [
              "   Age Sex ChestPainType  RestingBP  Cholesterol  FastingBS RestingECG  MaxHR  \\\n",
              "0   40   M           ATA        140        289.0          0     Normal    172   \n",
              "1   49   F           NAP        160        180.0          0     Normal    156   \n",
              "2   37   M           ATA        130        283.0          0         ST     98   \n",
              "3   48   F           ASY        138        214.0          0     Normal    108   \n",
              "4   54   M           NAP        150        195.0          0     Normal    122   \n",
              "\n",
              "  ExerciseAngina  Oldpeak ST_Slope  HeartDisease  \n",
              "0              N      0.0       Up             0  \n",
              "1              N      1.0     Flat             1  \n",
              "2              N      0.0       Up             0  \n",
              "3              Y      1.5     Flat             1  \n",
              "4              N      0.0       Up             0  "
            ],
            "text/html": [
              "\n",
              "  <div id=\"df-d1b87f68-c2fc-4b9c-89c0-e4f0d57b7717\">\n",
              "    <div class=\"colab-df-container\">\n",
              "      <div>\n",
              "<style scoped>\n",
              "    .dataframe tbody tr th:only-of-type {\n",
              "        vertical-align: middle;\n",
              "    }\n",
              "\n",
              "    .dataframe tbody tr th {\n",
              "        vertical-align: top;\n",
              "    }\n",
              "\n",
              "    .dataframe thead th {\n",
              "        text-align: right;\n",
              "    }\n",
              "</style>\n",
              "<table border=\"1\" class=\"dataframe\">\n",
              "  <thead>\n",
              "    <tr style=\"text-align: right;\">\n",
              "      <th></th>\n",
              "      <th>Age</th>\n",
              "      <th>Sex</th>\n",
              "      <th>ChestPainType</th>\n",
              "      <th>RestingBP</th>\n",
              "      <th>Cholesterol</th>\n",
              "      <th>FastingBS</th>\n",
              "      <th>RestingECG</th>\n",
              "      <th>MaxHR</th>\n",
              "      <th>ExerciseAngina</th>\n",
              "      <th>Oldpeak</th>\n",
              "      <th>ST_Slope</th>\n",
              "      <th>HeartDisease</th>\n",
              "    </tr>\n",
              "  </thead>\n",
              "  <tbody>\n",
              "    <tr>\n",
              "      <th>0</th>\n",
              "      <td>40</td>\n",
              "      <td>M</td>\n",
              "      <td>ATA</td>\n",
              "      <td>140</td>\n",
              "      <td>289.0</td>\n",
              "      <td>0</td>\n",
              "      <td>Normal</td>\n",
              "      <td>172</td>\n",
              "      <td>N</td>\n",
              "      <td>0.0</td>\n",
              "      <td>Up</td>\n",
              "      <td>0</td>\n",
              "    </tr>\n",
              "    <tr>\n",
              "      <th>1</th>\n",
              "      <td>49</td>\n",
              "      <td>F</td>\n",
              "      <td>NAP</td>\n",
              "      <td>160</td>\n",
              "      <td>180.0</td>\n",
              "      <td>0</td>\n",
              "      <td>Normal</td>\n",
              "      <td>156</td>\n",
              "      <td>N</td>\n",
              "      <td>1.0</td>\n",
              "      <td>Flat</td>\n",
              "      <td>1</td>\n",
              "    </tr>\n",
              "    <tr>\n",
              "      <th>2</th>\n",
              "      <td>37</td>\n",
              "      <td>M</td>\n",
              "      <td>ATA</td>\n",
              "      <td>130</td>\n",
              "      <td>283.0</td>\n",
              "      <td>0</td>\n",
              "      <td>ST</td>\n",
              "      <td>98</td>\n",
              "      <td>N</td>\n",
              "      <td>0.0</td>\n",
              "      <td>Up</td>\n",
              "      <td>0</td>\n",
              "    </tr>\n",
              "    <tr>\n",
              "      <th>3</th>\n",
              "      <td>48</td>\n",
              "      <td>F</td>\n",
              "      <td>ASY</td>\n",
              "      <td>138</td>\n",
              "      <td>214.0</td>\n",
              "      <td>0</td>\n",
              "      <td>Normal</td>\n",
              "      <td>108</td>\n",
              "      <td>Y</td>\n",
              "      <td>1.5</td>\n",
              "      <td>Flat</td>\n",
              "      <td>1</td>\n",
              "    </tr>\n",
              "    <tr>\n",
              "      <th>4</th>\n",
              "      <td>54</td>\n",
              "      <td>M</td>\n",
              "      <td>NAP</td>\n",
              "      <td>150</td>\n",
              "      <td>195.0</td>\n",
              "      <td>0</td>\n",
              "      <td>Normal</td>\n",
              "      <td>122</td>\n",
              "      <td>N</td>\n",
              "      <td>0.0</td>\n",
              "      <td>Up</td>\n",
              "      <td>0</td>\n",
              "    </tr>\n",
              "  </tbody>\n",
              "</table>\n",
              "</div>\n",
              "      <button class=\"colab-df-convert\" onclick=\"convertToInteractive('df-d1b87f68-c2fc-4b9c-89c0-e4f0d57b7717')\"\n",
              "              title=\"Convert this dataframe to an interactive table.\"\n",
              "              style=\"display:none;\">\n",
              "        \n",
              "  <svg xmlns=\"http://www.w3.org/2000/svg\" height=\"24px\"viewBox=\"0 0 24 24\"\n",
              "       width=\"24px\">\n",
              "    <path d=\"M0 0h24v24H0V0z\" fill=\"none\"/>\n",
              "    <path d=\"M18.56 5.44l.94 2.06.94-2.06 2.06-.94-2.06-.94-.94-2.06-.94 2.06-2.06.94zm-11 1L8.5 8.5l.94-2.06 2.06-.94-2.06-.94L8.5 2.5l-.94 2.06-2.06.94zm10 10l.94 2.06.94-2.06 2.06-.94-2.06-.94-.94-2.06-.94 2.06-2.06.94z\"/><path d=\"M17.41 7.96l-1.37-1.37c-.4-.4-.92-.59-1.43-.59-.52 0-1.04.2-1.43.59L10.3 9.45l-7.72 7.72c-.78.78-.78 2.05 0 2.83L4 21.41c.39.39.9.59 1.41.59.51 0 1.02-.2 1.41-.59l7.78-7.78 2.81-2.81c.8-.78.8-2.07 0-2.86zM5.41 20L4 18.59l7.72-7.72 1.47 1.35L5.41 20z\"/>\n",
              "  </svg>\n",
              "      </button>\n",
              "      \n",
              "  <style>\n",
              "    .colab-df-container {\n",
              "      display:flex;\n",
              "      flex-wrap:wrap;\n",
              "      gap: 12px;\n",
              "    }\n",
              "\n",
              "    .colab-df-convert {\n",
              "      background-color: #E8F0FE;\n",
              "      border: none;\n",
              "      border-radius: 50%;\n",
              "      cursor: pointer;\n",
              "      display: none;\n",
              "      fill: #1967D2;\n",
              "      height: 32px;\n",
              "      padding: 0 0 0 0;\n",
              "      width: 32px;\n",
              "    }\n",
              "\n",
              "    .colab-df-convert:hover {\n",
              "      background-color: #E2EBFA;\n",
              "      box-shadow: 0px 1px 2px rgba(60, 64, 67, 0.3), 0px 1px 3px 1px rgba(60, 64, 67, 0.15);\n",
              "      fill: #174EA6;\n",
              "    }\n",
              "\n",
              "    [theme=dark] .colab-df-convert {\n",
              "      background-color: #3B4455;\n",
              "      fill: #D2E3FC;\n",
              "    }\n",
              "\n",
              "    [theme=dark] .colab-df-convert:hover {\n",
              "      background-color: #434B5C;\n",
              "      box-shadow: 0px 1px 3px 1px rgba(0, 0, 0, 0.15);\n",
              "      filter: drop-shadow(0px 1px 2px rgba(0, 0, 0, 0.3));\n",
              "      fill: #FFFFFF;\n",
              "    }\n",
              "  </style>\n",
              "\n",
              "      <script>\n",
              "        const buttonEl =\n",
              "          document.querySelector('#df-d1b87f68-c2fc-4b9c-89c0-e4f0d57b7717 button.colab-df-convert');\n",
              "        buttonEl.style.display =\n",
              "          google.colab.kernel.accessAllowed ? 'block' : 'none';\n",
              "\n",
              "        async function convertToInteractive(key) {\n",
              "          const element = document.querySelector('#df-d1b87f68-c2fc-4b9c-89c0-e4f0d57b7717');\n",
              "          const dataTable =\n",
              "            await google.colab.kernel.invokeFunction('convertToInteractive',\n",
              "                                                     [key], {});\n",
              "          if (!dataTable) return;\n",
              "\n",
              "          const docLinkHtml = 'Like what you see? Visit the ' +\n",
              "            '<a target=\"_blank\" href=https://colab.research.google.com/notebooks/data_table.ipynb>data table notebook</a>'\n",
              "            + ' to learn more about interactive tables.';\n",
              "          element.innerHTML = '';\n",
              "          dataTable['output_type'] = 'display_data';\n",
              "          await google.colab.output.renderOutput(dataTable, element);\n",
              "          const docLink = document.createElement('div');\n",
              "          docLink.innerHTML = docLinkHtml;\n",
              "          element.appendChild(docLink);\n",
              "        }\n",
              "      </script>\n",
              "    </div>\n",
              "  </div>\n",
              "  "
            ]
          },
          "metadata": {},
          "execution_count": 34
        }
      ]
    },
    {
      "cell_type": "code",
      "source": [
        "df.shape"
      ],
      "metadata": {
        "colab": {
          "base_uri": "https://localhost:8080/"
        },
        "id": "_FqrxzOU3CXq",
        "outputId": "4be4a46d-f84c-4daa-84a3-e610ea06c3dc"
      },
      "execution_count": 35,
      "outputs": [
        {
          "output_type": "execute_result",
          "data": {
            "text/plain": [
              "(917, 12)"
            ]
          },
          "metadata": {},
          "execution_count": 35
        }
      ]
    },
    {
      "cell_type": "markdown",
      "source": [
        "\n",
        "### Tranformando variáveis nominais em variáveis categóricas ordinais"
      ],
      "metadata": {
        "id": "2sM_XONV3dbG"
      }
    },
    {
      "cell_type": "code",
      "source": [
        "#fazer uma cópia dos registros para nao mecher no registro original\n",
        "df2 = pd.DataFrame.copy(df)"
      ],
      "metadata": {
        "id": "_SxI58pt4D-K"
      },
      "execution_count": 36,
      "outputs": []
    },
    {
      "cell_type": "code",
      "source": [
        "#converter os valores em numeros ordinais\n",
        "\n",
        "df2['Sex'].replace({'M':0 , 'F':1}, inplace= True )\n",
        "df2['ChestPainType'].replace({'TA':0, 'ATA':1, 'NAP':2, 'ASY':3}, inplace=True)\n",
        "df2['RestingECG'].replace({'Normal': 0, 'ST': 1, 'LVH':2 }, inplace=True)\n",
        "df2['ExerciseAngina'].replace({'N':0, 'Y':1}, inplace=True)\n",
        "df2['ST_Slope'].replace({'Up': 0, 'Flat': 1, 'Down': 2}, inplace=True)\n",
        "\n",
        "df2.head(20)"
      ],
      "metadata": {
        "id": "PxDIE1rm4lnq"
      },
      "execution_count": null,
      "outputs": []
    },
    {
      "cell_type": "markdown",
      "source": [
        "#Atributos e previsores"
      ],
      "metadata": {
        "id": "UaPyt30pXYW1"
      }
    },
    {
      "cell_type": "code",
      "source": [
        "previsores = df2.iloc[:, 0:11].values\n",
        "#Quais são as colunas importante para análise entre 0 e 11\n",
        "\n",
        "previsores\n",
        "#formando um array matriz"
      ],
      "metadata": {
        "colab": {
          "base_uri": "https://localhost:8080/"
        },
        "id": "uy3jPAaaXb9f",
        "outputId": "f4710454-deeb-4cb4-97c2-a8bb9fc26f97"
      },
      "execution_count": 38,
      "outputs": [
        {
          "output_type": "execute_result",
          "data": {
            "text/plain": [
              "array([[40. ,  0. ,  1. , ...,  0. ,  0. ,  0. ],\n",
              "       [49. ,  1. ,  2. , ...,  0. ,  1. ,  1. ],\n",
              "       [37. ,  0. ,  1. , ...,  0. ,  0. ,  0. ],\n",
              "       ...,\n",
              "       [57. ,  0. ,  3. , ...,  1. ,  1.2,  1. ],\n",
              "       [57. ,  1. ,  1. , ...,  0. ,  0. ,  1. ],\n",
              "       [38. ,  0. ,  2. , ...,  0. ,  0. ,  0. ]])"
            ]
          },
          "metadata": {},
          "execution_count": 38
        }
      ]
    },
    {
      "cell_type": "code",
      "source": [
        "previsores.shape\n",
        "#tamanho do array"
      ],
      "metadata": {
        "colab": {
          "base_uri": "https://localhost:8080/"
        },
        "id": "KpDyJ-dFYWEJ",
        "outputId": "aec6cf9b-a009-4a8e-bb7e-aa57e87abcf0"
      },
      "execution_count": 39,
      "outputs": [
        {
          "output_type": "execute_result",
          "data": {
            "text/plain": [
              "(917, 11)"
            ]
          },
          "metadata": {},
          "execution_count": 39
        }
      ]
    },
    {
      "cell_type": "code",
      "source": [
        "alvo = df2.iloc[: , 11].values\n",
        "\n",
        "alvo"
      ],
      "metadata": {
        "id": "-Z0kPfexYioG"
      },
      "execution_count": null,
      "outputs": []
    },
    {
      "cell_type": "markdown",
      "source": [
        "#Análise das esclasas dos atributos (Escalonamento)\n",
        "</br>\n",
        "Padronização (utiliza a média e o desvio padrão como referência)\n",
        "</br>\n",
        "Normalização(utiliza os valores máximos e minimos como refência)"
      ],
      "metadata": {
        "id": "vYqlVIJUaH0m"
      }
    },
    {
      "cell_type": "code",
      "source": [
        "from sklearn.preprocessing import StandardScaler"
      ],
      "metadata": {
        "id": "1Im-Jp1AaOAf"
      },
      "execution_count": 41,
      "outputs": []
    },
    {
      "cell_type": "code",
      "source": [
        "previsores_esc = StandardScaler().fit_transform(previsores)\n",
        "#padronizar e escalonar os previsores"
      ],
      "metadata": {
        "id": "gaRDeU5HbT3y"
      },
      "execution_count": 42,
      "outputs": []
    },
    {
      "cell_type": "code",
      "source": [
        "previsores_esc"
      ],
      "metadata": {
        "id": "0zbgsVEKbjqL"
      },
      "execution_count": null,
      "outputs": []
    },
    {
      "cell_type": "code",
      "source": [
        "previsoresdf = pd.DataFrame(previsores_esc)\n",
        "previsoresdf\n",
        "#organizando dentro de um dataframe"
      ],
      "metadata": {
        "id": "6aSprRwSbyQZ"
      },
      "execution_count": null,
      "outputs": []
    },
    {
      "cell_type": "code",
      "source": [
        "previsoresdf.describe()"
      ],
      "metadata": {
        "id": "-oACAXwgcDnS"
      },
      "execution_count": null,
      "outputs": []
    },
    {
      "cell_type": "code",
      "source": [
        "from sklearn.preprocessing import LabelEncoder"
      ],
      "metadata": {
        "id": "F1WxUlZqix7x"
      },
      "execution_count": 60,
      "outputs": []
    },
    {
      "cell_type": "code",
      "source": [
        "previsores2 = df.iloc[:, 0:11].values\n",
        "previsores2\n"
      ],
      "metadata": {
        "colab": {
          "base_uri": "https://localhost:8080/"
        },
        "id": "lj69YGR3fR7g",
        "outputId": "eed01bfa-b2e8-42bc-aa75-c4dd5e56d2d9"
      },
      "execution_count": 58,
      "outputs": [
        {
          "output_type": "execute_result",
          "data": {
            "text/plain": [
              "array([[40, 'M', 'ATA', ..., 'N', 0.0, 'Up'],\n",
              "       [49, 'F', 'NAP', ..., 'N', 1.0, 'Flat'],\n",
              "       [37, 'M', 'ATA', ..., 'N', 0.0, 'Up'],\n",
              "       ...,\n",
              "       [57, 'M', 'ASY', ..., 'Y', 1.2, 'Flat'],\n",
              "       [57, 'F', 'ATA', ..., 'N', 0.0, 'Flat'],\n",
              "       [38, 'M', 'NAP', ..., 'N', 0.0, 'Up']], dtype=object)"
            ]
          },
          "metadata": {},
          "execution_count": 58
        }
      ]
    },
    {
      "cell_type": "code",
      "source": [
        "previsores2[:,1] = LabelEncoder().fit_transform(previsores2[:,1])\n",
        "#transforma variáveis nominais em numericos (Neste caso a coluna posição 1 sexo)\n",
        "\n",
        "previsores2\n",
        "previsores2[:,2] = LabelEncoder().fit_transform(previsores2[:,2])\n",
        "previsores2[:,6] = LabelEncoder().fit_transform(previsores2[:,6])\n",
        "previsores2[:,8] = LabelEncoder().fit_transform(previsores2[:,8])\n",
        "previsores2[:,10] = LabelEncoder().fit_transform(previsores2[:,10])\n"
      ],
      "metadata": {
        "id": "ohaNlKjSioXg"
      },
      "execution_count": 62,
      "outputs": []
    },
    {
      "cell_type": "code",
      "source": [
        "previsores2"
      ],
      "metadata": {
        "colab": {
          "base_uri": "https://localhost:8080/"
        },
        "id": "Q9tnvcOzjh9V",
        "outputId": "94c253d9-6c48-467c-9424-62332555a179"
      },
      "execution_count": 64,
      "outputs": [
        {
          "output_type": "execute_result",
          "data": {
            "text/plain": [
              "array([[40, 1, 1, ..., 0, 0.0, 2],\n",
              "       [49, 0, 2, ..., 0, 1.0, 1],\n",
              "       [37, 1, 1, ..., 0, 0.0, 2],\n",
              "       ...,\n",
              "       [57, 1, 0, ..., 1, 1.2, 1],\n",
              "       [57, 0, 1, ..., 0, 0.0, 1],\n",
              "       [38, 1, 2, ..., 0, 0.0, 2]], dtype=object)"
            ]
          },
          "metadata": {},
          "execution_count": 64
        }
      ]
    },
    {
      "cell_type": "markdown",
      "source": [
        "### **OneHotEncoder: Criação de variáveis Dummy (fictícia).**\n",
        "\n",
        "</br>\n",
        "Cuidado com a multicolinearidade (variáveis altamente correlacionadas entre si)."
      ],
      "metadata": {
        "id": "Apa7YSoLksTa"
      }
    },
    {
      "cell_type": "markdown",
      "source": [
        "![image.png](data:image/png;base64,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)"
      ],
      "metadata": {
        "id": "2ytI465qlHXZ"
      }
    },
    {
      "cell_type": "markdown",
      "source": [
        "A   B   C   D   \n",
        "1   0   0   0   \n",
        "0   1   0   0   \n",
        "0   0   1   0   \n",
        "0   0   0   1\n",
        "\n",
        "o onehortencoder aumenta a matriz pois  transformam as colunas em opções desta forma acima \n"
      ],
      "metadata": {
        "id": "KszpAZqXn6wx"
      }
    },
    {
      "cell_type": "code",
      "source": [
        "from sklearn.preprocessing import OneHotEncoder\n",
        "from sklearn.compose import ColumnTransformer"
      ],
      "metadata": {
        "id": "ITYlSmMDlKrq"
      },
      "execution_count": 65,
      "outputs": []
    },
    {
      "cell_type": "markdown",
      "source": [
        "Parâmetros ColumnTransformer\n",
        "- name: nome dado a transformação.\n",
        "- transformer: tipo de estimador (OneHotEncoder).\n",
        "- columns: colunas que serão transformadas.\n",
        "- remainder: o que acontecerá com o restante das colunas não relacionadas: \n",
        "1) drop = exclui as outras colunas.\n",
        "2) passthrough = mantém as outras colunas. drop é default.  \n",
        "- sparse_threshold: parâmetro de classificação de matrizes esparsas. default é 0.3\n",
        "- n_jobs: número de trabalhos a serem executados em paralelo. default é nenhum\n",
        "- transformer_weights: definição de pesos aos transformadores.\n",
        "-verbose: default é False. se for True a execução é apresentada na tela."
      ],
      "metadata": {
        "id": "mThtmrkglrLr"
      }
    },
    {
      "cell_type": "code",
      "source": [
        "previsores3 = ColumnTransformer(transformers=[('OneHot', OneHotEncoder(), [1,2,6,8,10])],\n",
        "                                remainder='passthrough').fit_transform(previsores2)"
      ],
      "metadata": {
        "id": "TIo7kLLXluML"
      },
      "execution_count": 68,
      "outputs": []
    },
    {
      "cell_type": "markdown",
      "source": [
        "#Escalonamento"
      ],
      "metadata": {
        "id": "h-TR1eQRopl2"
      }
    },
    {
      "cell_type": "code",
      "source": [
        "from sklearn.preprocessing import StandardScaler"
      ],
      "metadata": {
        "id": "2YIJ2X8Koth2"
      },
      "execution_count": 66,
      "outputs": []
    },
    {
      "cell_type": "code",
      "source": [
        "previsores3_esc = StandardScaler().fit_transform(previsores3)"
      ],
      "metadata": {
        "id": "tS57gWSJozW_"
      },
      "execution_count": 69,
      "outputs": []
    },
    {
      "cell_type": "code",
      "source": [
        "previsores3df = pd.DataFrame(previsores3_esc)\n",
        "previsores3df"
      ],
      "metadata": {
        "id": "FUUarXNspCFe"
      },
      "execution_count": null,
      "outputs": []
    },
    {
      "cell_type": "code",
      "source": [
        "previsores3df.describe()"
      ],
      "metadata": {
        "id": "Wz1ihnXOpMW0"
      },
      "execution_count": null,
      "outputs": []
    },
    {
      "cell_type": "markdown",
      "source": [
        "## **RESUMO PRÉ-PROCESSAMENTO**"
      ],
      "metadata": {
        "id": "sd5DdL0kpSDP"
      }
    },
    {
      "cell_type": "markdown",
      "source": [
        "alvo = variável que se pretende atingir (tem ou não doença cardíaca).\n",
        "\n",
        "previsores = conjunto de variáveis previsoras com as variáveis categóricas transformadas em numéricas manualmente, sem escalonar.\n",
        "\n",
        "previsores_esc = conjunto de variáveis previsoras com as variáveis categóricas transformadas em numéricas, escalonada.\n",
        "\n",
        "previsores2 = conjunto de variáveis previsoras com as variáveis categóricas transformadas em numéricas pelo labelencoder.\n",
        "\n",
        "previsores3 = conjunto de variáveis previsoras transformadas pelo labelencoder e onehotencoder, sem escalonar.\n",
        "\n",
        "previsores3_esc = conjunto de variáveis previsoras transformadas pelo labelencoder e onehotencoder escalonada."
      ],
      "metadata": {
        "id": "Jc2l6OAnpZoZ"
      }
    },
    {
      "cell_type": "markdown",
      "source": [
        "## **Redução de dimensionalidade**"
      ],
      "metadata": {
        "id": "VYsToEZdpeD-"
      }
    },
    {
      "cell_type": "markdown",
      "source": [
        "Objetivo é selecionar os melhores componentes (atributos) para treinamento do algoritmo, através da análise das correlações entre as variáveis."
      ],
      "metadata": {
        "id": "BMwCPpQHpiwn"
      }
    },
    {
      "cell_type": "markdown",
      "source": [
        "### Análise dos Componentes Principais (PCA)"
      ],
      "metadata": {
        "id": "3__U0F_NpnaM"
      }
    },
    {
      "cell_type": "markdown",
      "source": [
        "**Seleção de características:** seleciona os melhores atributos e utiliza sem transformações.\n",
        "\n",
        "**Extração de Características:** Encontra os relacionamentos dos melhores atributos e cria novos atributos.\n",
        "\n",
        "É um algoritmo de aprendizagem não supervisionada.\n",
        "\n",
        "Aplica-se em dados linearmente separáveis."
      ],
      "metadata": {
        "id": "UDQb8LIWpryZ"
      }
    },
    {
      "cell_type": "code",
      "source": [
        "from sklearn.decomposition import PCA"
      ],
      "metadata": {
        "id": "3KFLz1iNp6TX"
      },
      "execution_count": 72,
      "outputs": []
    },
    {
      "cell_type": "code",
      "source": [
        "pca = PCA(n_components=3)"
      ],
      "metadata": {
        "id": "fqkx-3ucsS4T"
      },
      "execution_count": 83,
      "outputs": []
    },
    {
      "cell_type": "code",
      "source": [
        "previsores_pca = pca.fit_transform(previsores2)"
      ],
      "metadata": {
        "id": "0Ar1NaSnsXRP"
      },
      "execution_count": 84,
      "outputs": []
    },
    {
      "cell_type": "code",
      "source": [
        "# Componentes principais\n",
        "previsores_pca"
      ],
      "metadata": {
        "id": "FTSDxYGHsfae"
      },
      "execution_count": null,
      "outputs": []
    },
    {
      "cell_type": "code",
      "source": [
        "# razão das variáveis explicativas\n",
        "pca.explained_variance_ratio_"
      ],
      "metadata": {
        "colab": {
          "base_uri": "https://localhost:8080/"
        },
        "id": "OLe2fAp4slH5",
        "outputId": "f2aa45fd-05c0-4e49-b249-cc9330569f14"
      },
      "execution_count": 86,
      "outputs": [
        {
          "output_type": "execute_result",
          "data": {
            "text/plain": [
              "array([0.72847929, 0.17183534, 0.08122019])"
            ]
          },
          "metadata": {},
          "execution_count": 86
        }
      ]
    },
    {
      "cell_type": "code",
      "source": [
        "# Soma das variáveis explicativas\n",
        "pca.explained_variance_ratio_.sum()"
      ],
      "metadata": {
        "colab": {
          "base_uri": "https://localhost:8080/"
        },
        "id": "c6RTIfCasmPn",
        "outputId": "463ed3f6-ad18-4b89-c0ab-416e11650dd8"
      },
      "execution_count": 87,
      "outputs": [
        {
          "output_type": "execute_result",
          "data": {
            "text/plain": [
              "0.9815348236774062"
            ]
          },
          "metadata": {},
          "execution_count": 87
        }
      ]
    },
    {
      "cell_type": "markdown",
      "source": [
        "### Kernel PCA"
      ],
      "metadata": {
        "id": "dKtZztKAtmRB"
      }
    },
    {
      "cell_type": "markdown",
      "source": [
        "É um algoritmo de aprendizagem não supervisionada.\n",
        "\n",
        "Aplica-se também em dados linearmente não separáveis."
      ],
      "metadata": {
        "id": "j9XGougctnRM"
      }
    },
    {
      "cell_type": "code",
      "source": [
        "from sklearn.decomposition import KernelPCA"
      ],
      "metadata": {
        "id": "HPzoSPGFtsTy"
      },
      "execution_count": 88,
      "outputs": []
    },
    {
      "cell_type": "code",
      "source": [
        "kpca = KernelPCA(n_components=4, kernel='rbf')"
      ],
      "metadata": {
        "id": "ahZI4O3ttwo4"
      },
      "execution_count": 89,
      "outputs": []
    },
    {
      "cell_type": "code",
      "source": [
        "previsores_kernel = kpca.fit_transform(previsores2)"
      ],
      "metadata": {
        "id": "OFmxxrCOt0WI"
      },
      "execution_count": 91,
      "outputs": []
    },
    {
      "cell_type": "code",
      "source": [
        "previsores_kernel"
      ],
      "metadata": {
        "id": "Jd24b7AZt63Y"
      },
      "execution_count": null,
      "outputs": []
    },
    {
      "cell_type": "markdown",
      "source": [
        "### **Análise do Discriminante Linear (LDA: Linear Discriminant Analysis)**"
      ],
      "metadata": {
        "id": "FLBjhCUiuFOt"
      }
    },
    {
      "cell_type": "markdown",
      "source": [
        "Algoritmo de aprendizagem supervisionada, pois utiliza a classe como referência para seleção.\n",
        "\n",
        "Aplicado em situações com muitos atributos previsores e também com o atributo alvo com muitas classes."
      ],
      "metadata": {
        "id": "4OBGsYYcuH3f"
      }
    },
    {
      "cell_type": "code",
      "source": [
        "from sklearn.discriminant_analysis import LinearDiscriminantAnalysis\n",
        "lda = LinearDiscriminantAnalysis(n_components = 1)"
      ],
      "metadata": {
        "id": "1yVCUT8nuKmR"
      },
      "execution_count": 93,
      "outputs": []
    },
    {
      "cell_type": "code",
      "source": [
        "previsores_lda = lda.fit_transform(previsores2, alvo)"
      ],
      "metadata": {
        "id": "c8XCigDSuOd0"
      },
      "execution_count": 94,
      "outputs": []
    },
    {
      "cell_type": "code",
      "source": [
        "previsores_lda"
      ],
      "metadata": {
        "id": "0vlleQc_uU3y"
      },
      "execution_count": null,
      "outputs": []
    },
    {
      "cell_type": "code",
      "source": [
        "lda.explained_variance_ratio_"
      ],
      "metadata": {
        "id": "S6M_qbEduVXN"
      },
      "execution_count": null,
      "outputs": []
    },
    {
      "cell_type": "markdown",
      "source": [
        "## **Salvando as variáveis (atributos)**"
      ],
      "metadata": {
        "id": "z1ZhbU-DurJ5"
      }
    },
    {
      "cell_type": "code",
      "source": [
        "import pickle"
      ],
      "metadata": {
        "id": "joaPLu0kuucG"
      },
      "execution_count": 98,
      "outputs": []
    },
    {
      "cell_type": "code",
      "source": [
        "# Criando arquivo\n",
        "arq1 = open('heart.pkl', 'wb')"
      ],
      "metadata": {
        "id": "2vSDmH1ruvwo"
      },
      "execution_count": 99,
      "outputs": []
    },
    {
      "cell_type": "code",
      "source": [
        "# Salvando a variável no arquivo\n",
        "pickle.dump(alvo, arq1)"
      ],
      "metadata": {
        "id": "B7Qw8W8iuzFi"
      },
      "execution_count": 100,
      "outputs": []
    },
    {
      "cell_type": "code",
      "source": [
        "# Fechando arquivo\n",
        "arq1.close()"
      ],
      "metadata": {
        "id": "pBfUFjqqu2L3"
      },
      "execution_count": 101,
      "outputs": []
    },
    {
      "cell_type": "code",
      "source": [
        "# Lendo arquivo\n",
        "arq1 = open('heart.pkl', 'rb')"
      ],
      "metadata": {
        "id": "hD4ewDgNu4x6"
      },
      "execution_count": 102,
      "outputs": []
    },
    {
      "cell_type": "code",
      "source": [
        "# Chamando a variável\n",
        "alvo = pickle.load(arq1)"
      ],
      "metadata": {
        "id": "BAn5RKCYu7qS"
      },
      "execution_count": 103,
      "outputs": []
    },
    {
      "cell_type": "code",
      "source": [
        "alvo"
      ],
      "metadata": {
        "id": "y1cneokPvBUB"
      },
      "execution_count": null,
      "outputs": []
    },
    {
      "cell_type": "code",
      "source": [
        "# Criando arquivos e Salvando as variáveis\n",
        "arq2 = open('heart2.pkl', 'wb')\n",
        "pickle.dump(previsores, arq2)\n",
        "arq3 = open('heart3.pkl', 'wb')\n",
        "pickle.dump(previsores_esc, arq3)\n",
        "arq4 = open('heart4.pkl', 'wb')\n",
        "pickle.dump(previsores2, arq4)\n",
        "arq5 = open('heart5.pkl', 'wb')\n",
        "pickle.dump(previsores3, arq5)\n",
        "arq6 = open('heart6.pkl', 'wb')\n",
        "pickle.dump(previsores3_esc, arq6)"
      ],
      "metadata": {
        "id": "Dow2WhmBvGWg"
      },
      "execution_count": 105,
      "outputs": []
    },
    {
      "cell_type": "code",
      "source": [
        "arq2 = open('heart2.pkl', 'rb')"
      ],
      "metadata": {
        "id": "U437DQlivKaO"
      },
      "execution_count": 106,
      "outputs": []
    },
    {
      "cell_type": "code",
      "source": [
        "previsores = pickle.load(arq2)"
      ],
      "metadata": {
        "id": "Ddb_FI0svNcj"
      },
      "execution_count": 107,
      "outputs": []
    },
    {
      "cell_type": "code",
      "source": [
        "previsores"
      ],
      "metadata": {
        "id": "QyCAA0A5vOYc"
      },
      "execution_count": null,
      "outputs": []
    },
    {
      "cell_type": "markdown",
      "source": [
        "## **BASE DE TREINO E TESTE**"
      ],
      "metadata": {
        "id": "R2EgrKR8xipR"
      }
    },
    {
      "cell_type": "code",
      "source": [
        "from sklearn.model_selection import train_test_split"
      ],
      "metadata": {
        "id": "YcJYKgq3xmXG"
      },
      "execution_count": 109,
      "outputs": []
    },
    {
      "cell_type": "markdown",
      "source": [
        "Parâmetros train_test_split:   \n",
        "- arrays: nomes dos atributos previsores e alvo.   \n",
        "- test_size: tamanho em porcentagem dos dados de teste. default é none.   \n",
        "- train_size: tamanho em porcentagem dos dados de treinamento.default é none.  \n",
        "- random_state: nomeação de um estado aleatório.   \n",
        "- shuffle: embaralhamento dos dados aleatórios. Associado com o random_state ocorre o mesmo embaralhamento sempre. Default é True.  \n",
        "- stratify: Possibilidade de dividir os dados de forma estratificada. Default é None (nesse caso é mantido a proporção, isto é, se tem 30% de zeros e 70% de 1 no dataframe, na separação em treinamento e teste se manterá essa proporção)."
      ],
      "metadata": {
        "id": "MWdB6hRfxpkW"
      }
    },
    {
      "cell_type": "code",
      "source": [
        "x_treino, x_teste, y_treino, y_teste = train_test_split(previsores3, alvo, test_size = 0.3, random_state = 0)"
      ],
      "metadata": {
        "id": "YJo2MxnPxsuF"
      },
      "execution_count": 124,
      "outputs": []
    },
    {
      "cell_type": "markdown",
      "source": [
        "# **NAIVE BAYES**"
      ],
      "metadata": {
        "id": "FABdNlO81CHV"
      }
    },
    {
      "cell_type": "markdown",
      "source": [
        "https://scikit-learn.org/stable/modules/naive_bayes.html\n",
        "\n",
        "\n",
        "\n",
        "Treinamento do algoritmo"
      ],
      "metadata": {
        "id": "gOsor1_Q1F1c"
      }
    },
    {
      "cell_type": "code",
      "source": [
        "from sklearn.naive_bayes import GaussianNB"
      ],
      "metadata": {
        "id": "PI38HkQN1QtB"
      },
      "execution_count": 125,
      "outputs": []
    },
    {
      "cell_type": "code",
      "source": [
        "naive = GaussianNB()\n",
        "naive.fit(x_treino, y_treino)"
      ],
      "metadata": {
        "colab": {
          "base_uri": "https://localhost:8080/"
        },
        "id": "Olw42llX1WdI",
        "outputId": "978b6e28-51f1-4550-820a-819c720fb87c"
      },
      "execution_count": 126,
      "outputs": [
        {
          "output_type": "execute_result",
          "data": {
            "text/plain": [
              "GaussianNB()"
            ]
          },
          "metadata": {},
          "execution_count": 126
        }
      ]
    },
    {
      "cell_type": "markdown",
      "source": [
        "*Avaliação* do algoritmo"
      ],
      "metadata": {
        "id": "DwddtTJA1dYF"
      }
    },
    {
      "cell_type": "code",
      "source": [
        "previsoes_naive = naive.predict(x_teste)\n",
        "previsoes_naive"
      ],
      "metadata": {
        "id": "cuqKA77t1emm"
      },
      "execution_count": null,
      "outputs": []
    },
    {
      "cell_type": "code",
      "source": [
        "y_teste\n"
      ],
      "metadata": {
        "id": "UsHBVzpI4TWF"
      },
      "execution_count": null,
      "outputs": []
    },
    {
      "cell_type": "code",
      "source": [
        "from sklearn.metrics import accuracy_score, confusion_matrix, classification_report"
      ],
      "metadata": {
        "id": "-VISjzpt4V48"
      },
      "execution_count": 115,
      "outputs": []
    },
    {
      "cell_type": "code",
      "source": [
        "accuracy_score(y_teste, previsoes_naive)"
      ],
      "metadata": {
        "colab": {
          "base_uri": "https://localhost:8080/"
        },
        "id": "46f5mgUx4Z9z",
        "outputId": "02629957-402d-4407-be95-0a0559ae9dc3"
      },
      "execution_count": 128,
      "outputs": [
        {
          "output_type": "execute_result",
          "data": {
            "text/plain": [
              "0.8478260869565217"
            ]
          },
          "metadata": {},
          "execution_count": 128
        }
      ]
    },
    {
      "cell_type": "code",
      "source": [
        "print(\"Acurácia: %.2f%%\" % (accuracy_score(y_teste, previsoes_naive) * 100.0))"
      ],
      "metadata": {
        "colab": {
          "base_uri": "https://localhost:8080/"
        },
        "id": "8xOnHk3u4eFS",
        "outputId": "1be684dd-d86c-4029-ce5b-6b2af7995222"
      },
      "execution_count": 129,
      "outputs": [
        {
          "output_type": "stream",
          "name": "stdout",
          "text": [
            "Acurácia: 84.78%\n"
          ]
        }
      ]
    },
    {
      "cell_type": "code",
      "source": [
        "confusion_matrix(y_teste, previsoes_naive)"
      ],
      "metadata": {
        "colab": {
          "base_uri": "https://localhost:8080/"
        },
        "id": "nzWkukgJ4kYG",
        "outputId": "797672f9-27d7-49eb-bccb-d4337634edab"
      },
      "execution_count": 135,
      "outputs": [
        {
          "output_type": "execute_result",
          "data": {
            "text/plain": [
              "array([[100,  21],\n",
              "       [ 21, 134]])"
            ]
          },
          "metadata": {},
          "execution_count": 135
        }
      ]
    },
    {
      "cell_type": "code",
      "source": [
        "print(classification_report(y_teste, previsoes_naive))"
      ],
      "metadata": {
        "colab": {
          "base_uri": "https://localhost:8080/"
        },
        "id": "9s2UZUAg4oWI",
        "outputId": "33d8fcce-db1a-4d63-cb84-3f84f05741d2"
      },
      "execution_count": 130,
      "outputs": [
        {
          "output_type": "stream",
          "name": "stdout",
          "text": [
            "              precision    recall  f1-score   support\n",
            "\n",
            "           0       0.83      0.83      0.83       121\n",
            "           1       0.86      0.86      0.86       155\n",
            "\n",
            "    accuracy                           0.85       276\n",
            "   macro avg       0.85      0.85      0.85       276\n",
            "weighted avg       0.85      0.85      0.85       276\n",
            "\n"
          ]
        }
      ]
    },
    {
      "cell_type": "markdown",
      "source": [
        "**Análise dados de treino**"
      ],
      "metadata": {
        "id": "vHqEsNHP5YfU"
      }
    },
    {
      "cell_type": "code",
      "source": [
        "previsoes_treino = naive.predict(x_treino)\n",
        "previsoes_treino"
      ],
      "metadata": {
        "id": "1owZDfMY5cJd"
      },
      "execution_count": null,
      "outputs": []
    },
    {
      "cell_type": "code",
      "source": [
        "accuracy_score(y_treino, previsoes_treino)"
      ],
      "metadata": {
        "colab": {
          "base_uri": "https://localhost:8080/"
        },
        "id": "TBFilOCf5fNI",
        "outputId": "f7489383-9e49-47fe-8d98-b7ed6ae401fd"
      },
      "execution_count": 132,
      "outputs": [
        {
          "output_type": "execute_result",
          "data": {
            "text/plain": [
              "0.8611544461778471"
            ]
          },
          "metadata": {},
          "execution_count": 132
        }
      ]
    },
    {
      "cell_type": "code",
      "source": [
        "confusion_matrix(y_treino, previsoes_treino)"
      ],
      "metadata": {
        "colab": {
          "base_uri": "https://localhost:8080/"
        },
        "id": "793DmEmT5gD5",
        "outputId": "e40731fb-b2b1-48aa-a559-5a99bb3ae5c5"
      },
      "execution_count": 133,
      "outputs": [
        {
          "output_type": "execute_result",
          "data": {
            "text/plain": [
              "array([[248,  41],\n",
              "       [ 48, 304]])"
            ]
          },
          "metadata": {},
          "execution_count": 133
        }
      ]
    },
    {
      "cell_type": "markdown",
      "source": [
        "### **Validação Cruzada**"
      ],
      "metadata": {
        "id": "6SRr_onu5p9O"
      }
    },
    {
      "cell_type": "code",
      "source": [
        "from sklearn.model_selection import KFold\n",
        "from sklearn.model_selection import cross_val_score"
      ],
      "metadata": {
        "id": "_bXYx3tu5qrN"
      },
      "execution_count": 123,
      "outputs": []
    },
    {
      "cell_type": "code",
      "source": [
        "# Separando os dados em folds\n",
        "kfold = KFold(n_splits = 30, shuffle=True, random_state = 5)"
      ],
      "metadata": {
        "id": "UJmjRQe5-D-J"
      },
      "execution_count": null,
      "outputs": []
    },
    {
      "cell_type": "code",
      "source": [
        "# Criando o modelo\n",
        "modelo = GaussianNB()\n",
        "resultado = cross_val_score(modelo, previsores3_esc, alvo, cv = kfold)\n",
        "resultado"
      ],
      "metadata": {
        "id": "ycLbLD-T-FU6"
      },
      "execution_count": null,
      "outputs": []
    },
    {
      "cell_type": "code",
      "source": [
        "# Usamos a média e o desvio padrão\n",
        "print(\"Acurácia Média: %.2f%%\" % (resultado.mean() * 100.0))"
      ],
      "metadata": {
        "id": "Lkyg5ZPV-Opx"
      },
      "execution_count": null,
      "outputs": []
    },
    {
      "cell_type": "markdown",
      "source": [
        "Naive Bayes = 84,78% (treino e teste) - 234 acertos e 85,17% (validação cruzada) - previsores3_esc\n",
        "\n",
        "\n",
        "\n"
      ],
      "metadata": {
        "id": "mlHlq6n_-S_Z"
      }
    }
  ]
}