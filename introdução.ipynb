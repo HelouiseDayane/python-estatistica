{
  "cells": [
    {
      "cell_type": "markdown",
      "metadata": {
        "id": "view-in-github",
        "colab_type": "text"
      },
      "source": [
        "<a href=\"https://colab.research.google.com/github/HelouiseDayane/python-estatistica/blob/main/introdu%C3%A7%C3%A3o.ipynb\" target=\"_parent\"><img src=\"https://colab.research.google.com/assets/colab-badge.svg\" alt=\"Open In Colab\"/></a>"
      ]
    },
    {
      "cell_type": "code",
      "execution_count": null,
      "metadata": {
        "id": "LcAqQFS4wtqM"
      },
      "outputs": [],
      "source": []
    },
    {
      "cell_type": "markdown",
      "metadata": {
        "id": "KIB3ljk4xX8Y"
      },
      "source": [
        "**EXPLORAÇÃO ANALISE E TRATAMENTO DOS DADOS: PROJETO E PREVISAO DE DOENÇA CARDIACA**\n",
        "\n",
        "Este projeto tem por objetivo desenvolver um algiritimo de machene learning  para prever a tendencia de uma pessoa desenvolver algum tipo de doença cardiaca com base em alguns fatores clinicos e laboratoriais de referência.\n",
        "\n",
        "\n",
        "Os dados foram extraídos do site do Kaggle:\n",
        "\n",
        "[Kagle](https://www.kaggle.com/fedesoriano/heart-failure-prediction/version/1)\n",
        "\n",
        "\n"
      ]
    },
    {
      "cell_type": "code",
      "execution_count": 39,
      "metadata": {
        "id": "ka7iyb8U0MEI"
      },
      "outputs": [],
      "source": [
        "import numpy as np\n",
        "import pandas as pd\n",
        "\n",
        "# dados = pd.read_csv('/content/drive/MyDrive/ColabNotebooks/machinelearningcompleto/heart.csv', sep=',',encoding='iso-8859-1')"
      ]
    },
    {
      "cell_type": "code",
      "execution_count": 52,
      "metadata": {
        "id": "XTNN7C86elhG"
      },
      "outputs": [],
      "source": [
        "\n",
        "\n",
        "dados = pd.read_csv('/content/drive/MyDrive/Colab Notebooks/machine learning completo/heart.csv', sep=',',encoding='iso-8859-1')"
      ]
    },
    {
      "cell_type": "code",
      "execution_count": 41,
      "metadata": {
        "colab": {
          "base_uri": "https://localhost:8080/"
        },
        "id": "i1YhTUWfevwP",
        "outputId": "64900be2-edf8-4855-cfba-69526e925bf7"
      },
      "outputs": [
        {
          "output_type": "execute_result",
          "data": {
            "text/plain": [
              "(918, 12)"
            ]
          },
          "metadata": {},
          "execution_count": 41
        }
      ],
      "source": [
        "#primeiro registros\n",
        "dados.head()\n",
        "#ultimos dados do registro\n",
        "dados.tail()\n",
        "#quantidade de linhas e colunas do registros\n",
        "dados.shape"
      ]
    },
    {
      "cell_type": "markdown",
      "metadata": {
        "id": "OAZWT9nHgekA"
      },
      "source": [
        "## Analise de atributos"
      ]
    },
    {
      "cell_type": "markdown",
      "metadata": {
        "id": "3papQTyZmnmJ"
      },
      "source": [
        "## Variáveis numericas discretas\n",
        "###### É quando nao tem numeros quebrados"
      ]
    },
    {
      "cell_type": "code",
      "execution_count": null,
      "metadata": {
        "id": "DkkU9QF2gis9"
      },
      "outputs": [],
      "source": [
        "#quantidade de pessoas com cada idade nos registros\n",
        "dados['Age'].value_counts()\n",
        "\n",
        "#ordenando\n",
        "dados['Age'].value_counts().sort_index()\n"
      ]
    },
    {
      "cell_type": "code",
      "execution_count": 42,
      "metadata": {
        "id": "AmyZj-x1hRco"
      },
      "outputs": [],
      "source": [
        "import plotly.express as px"
      ]
    },
    {
      "cell_type": "code",
      "execution_count": null,
      "metadata": {
        "id": "x0o1F-mShgP8"
      },
      "outputs": [],
      "source": [
        "hist1 = px.histogram(dados, x = 'Age', nbins=60)\n",
        "hist1.update_layout(width=800,height=500, title_text='Distribuição de Idades')\n",
        "hist1.show()"
      ]
    },
    {
      "cell_type": "code",
      "execution_count": 44,
      "metadata": {
        "id": "kamDGjDdj4Ql"
      },
      "outputs": [],
      "source": [
        "#biblioteca seaborn\n",
        "import seaborn as sns"
      ]
    },
    {
      "cell_type": "code",
      "execution_count": null,
      "metadata": {
        "id": "D-2rb-JhkGsI"
      },
      "outputs": [],
      "source": [
        "sns.histplot(dados, x='Age', bins=30, color=\"green\", kde=True, stat=\"count\" );"
      ]
    },
    {
      "cell_type": "markdown",
      "metadata": {
        "id": "RIDkuTEIm9m5"
      },
      "source": [
        "#Chest pain Type = Tipode de dor no peito\n",
        "Legenda = \n",
        "* ASY:assintomatico\n",
        "*   NAP = Dor não angionosa\n",
        "*   ATA = Angina Atípica\n",
        "*  TA = Angina Tipica\n",
        "\n",
        "Angina = Dor no peito causada pela diminuição do fluxo de sangue no coração"
      ]
    },
    {
      "cell_type": "code",
      "execution_count": null,
      "metadata": {
        "id": "JSXXZeAWn-Rc"
      },
      "outputs": [],
      "source": [
        "#variavel categórico nominal\n",
        "dados['ChestPainType'].value_counts()"
      ]
    },
    {
      "cell_type": "code",
      "execution_count": null,
      "metadata": {
        "id": "QbsA_9dUo7yC"
      },
      "outputs": [],
      "source": [
        "sns.countplot(x= 'ChestPainType', data=dados);"
      ]
    },
    {
      "cell_type": "markdown",
      "metadata": {
        "id": "rcHo7DxXq4aZ"
      },
      "source": [
        "### Resting BP ( blood pressure) - Pressão sanguinea em repouso em mmHg (sistólica)\n",
        "\n",
        "### Variáveis numéricas contínuas"
      ]
    },
    {
      "cell_type": "code",
      "execution_count": 51,
      "metadata": {
        "id": "FBDKwxz5rT_1"
      },
      "outputs": [],
      "source": [
        "#pode ser substituido por dadoa['RestingBP'] é a mesma coisa\n",
        "dados.RestingBP.value_counts().sort_index();\n",
        "#percerber e corrigir a sistólica que esta igual a 0"
      ]
    },
    {
      "cell_type": "code",
      "execution_count": null,
      "metadata": {
        "id": "ZQvpwQBursKo"
      },
      "outputs": [],
      "source": [
        "sns.histplot(dados, x='RestingBP', bins=30, kde=True, color=\"blue\", stat=\"count\");"
      ]
    },
    {
      "cell_type": "markdown",
      "metadata": {
        "id": "COhGBgCmtGgf"
      },
      "source": [
        "Colesterol"
      ]
    },
    {
      "cell_type": "code",
      "execution_count": null,
      "metadata": {
        "id": "F-CSL4rTtLEr"
      },
      "outputs": [],
      "source": [
        "dados.Cholesterol.value_counts().sort_index()"
      ]
    },
    {
      "cell_type": "code",
      "execution_count": null,
      "metadata": {
        "id": "jPgzOTIctS3F"
      },
      "outputs": [],
      "source": [
        "sns.histplot(dados, x='Cholesterol', bins=30, kde=True, color=\"blue\", stat=\"count\");"
      ]
    },
    {
      "cell_type": "markdown",
      "metadata": {
        "id": "A0vferOa1llZ"
      },
      "source": [
        "###Valores Missing vazios"
      ]
    },
    {
      "cell_type": "code",
      "execution_count": null,
      "metadata": {
        "id": "9qH1cvIO1k52"
      },
      "outputs": [],
      "source": [
        "# Veirifcar ser tem algum campo da coluna vazia\n",
        "dados.isnull().sum()"
      ]
    },
    {
      "cell_type": "code",
      "execution_count": null,
      "metadata": {
        "id": "IDTfd9ZO14ts"
      },
      "outputs": [],
      "source": [
        "#excluir valores vazios\n",
        "\n",
        "dados2 = dados.dropna()"
      ]
    },
    {
      "cell_type": "markdown",
      "metadata": {
        "id": "HN_1eGjc5Tmz"
      },
      "source": [
        "#Análise Estatistica descritiva"
      ]
    },
    {
      "cell_type": "code",
      "execution_count": null,
      "metadata": {
        "colab": {
          "base_uri": "https://localhost:8080/",
          "height": 300
        },
        "id": "9LIVTnTz5kK6",
        "outputId": "5c3ebba2-9ec3-4e0d-fe5c-17e72a78727d"
      },
      "outputs": [
        {
          "data": {
            "text/html": [
              "\n",
              "  <div id=\"df-08c43a97-de95-4347-9c1d-85d36a94b046\">\n",
              "    <div class=\"colab-df-container\">\n",
              "      <div>\n",
              "<style scoped>\n",
              "    .dataframe tbody tr th:only-of-type {\n",
              "        vertical-align: middle;\n",
              "    }\n",
              "\n",
              "    .dataframe tbody tr th {\n",
              "        vertical-align: top;\n",
              "    }\n",
              "\n",
              "    .dataframe thead th {\n",
              "        text-align: right;\n",
              "    }\n",
              "</style>\n",
              "<table border=\"1\" class=\"dataframe\">\n",
              "  <thead>\n",
              "    <tr style=\"text-align: right;\">\n",
              "      <th></th>\n",
              "      <th>Age</th>\n",
              "      <th>RestingBP</th>\n",
              "      <th>Cholesterol</th>\n",
              "      <th>FastingBS</th>\n",
              "      <th>MaxHR</th>\n",
              "      <th>Oldpeak</th>\n",
              "      <th>HeartDisease</th>\n",
              "    </tr>\n",
              "  </thead>\n",
              "  <tbody>\n",
              "    <tr>\n",
              "      <th>count</th>\n",
              "      <td>918.000000</td>\n",
              "      <td>917.000000</td>\n",
              "      <td>918.000000</td>\n",
              "      <td>918.000000</td>\n",
              "      <td>918.000000</td>\n",
              "      <td>918.000000</td>\n",
              "      <td>918.000000</td>\n",
              "    </tr>\n",
              "    <tr>\n",
              "      <th>mean</th>\n",
              "      <td>53.510893</td>\n",
              "      <td>132.540894</td>\n",
              "      <td>244.635389</td>\n",
              "      <td>0.233115</td>\n",
              "      <td>136.809368</td>\n",
              "      <td>0.887364</td>\n",
              "      <td>0.553377</td>\n",
              "    </tr>\n",
              "    <tr>\n",
              "      <th>std</th>\n",
              "      <td>9.432617</td>\n",
              "      <td>17.999749</td>\n",
              "      <td>53.318029</td>\n",
              "      <td>0.423046</td>\n",
              "      <td>25.460334</td>\n",
              "      <td>1.066570</td>\n",
              "      <td>0.497414</td>\n",
              "    </tr>\n",
              "    <tr>\n",
              "      <th>min</th>\n",
              "      <td>28.000000</td>\n",
              "      <td>80.000000</td>\n",
              "      <td>85.000000</td>\n",
              "      <td>0.000000</td>\n",
              "      <td>60.000000</td>\n",
              "      <td>-2.600000</td>\n",
              "      <td>0.000000</td>\n",
              "    </tr>\n",
              "    <tr>\n",
              "      <th>25%</th>\n",
              "      <td>47.000000</td>\n",
              "      <td>120.000000</td>\n",
              "      <td>214.000000</td>\n",
              "      <td>0.000000</td>\n",
              "      <td>120.000000</td>\n",
              "      <td>0.000000</td>\n",
              "      <td>0.000000</td>\n",
              "    </tr>\n",
              "    <tr>\n",
              "      <th>50%</th>\n",
              "      <td>54.000000</td>\n",
              "      <td>130.000000</td>\n",
              "      <td>244.635389</td>\n",
              "      <td>0.000000</td>\n",
              "      <td>138.000000</td>\n",
              "      <td>0.600000</td>\n",
              "      <td>1.000000</td>\n",
              "    </tr>\n",
              "    <tr>\n",
              "      <th>75%</th>\n",
              "      <td>60.000000</td>\n",
              "      <td>140.000000</td>\n",
              "      <td>267.000000</td>\n",
              "      <td>0.000000</td>\n",
              "      <td>156.000000</td>\n",
              "      <td>1.500000</td>\n",
              "      <td>1.000000</td>\n",
              "    </tr>\n",
              "    <tr>\n",
              "      <th>max</th>\n",
              "      <td>77.000000</td>\n",
              "      <td>200.000000</td>\n",
              "      <td>603.000000</td>\n",
              "      <td>1.000000</td>\n",
              "      <td>202.000000</td>\n",
              "      <td>6.200000</td>\n",
              "      <td>1.000000</td>\n",
              "    </tr>\n",
              "  </tbody>\n",
              "</table>\n",
              "</div>\n",
              "      <button class=\"colab-df-convert\" onclick=\"convertToInteractive('df-08c43a97-de95-4347-9c1d-85d36a94b046')\"\n",
              "              title=\"Convert this dataframe to an interactive table.\"\n",
              "              style=\"display:none;\">\n",
              "        \n",
              "  <svg xmlns=\"http://www.w3.org/2000/svg\" height=\"24px\"viewBox=\"0 0 24 24\"\n",
              "       width=\"24px\">\n",
              "    <path d=\"M0 0h24v24H0V0z\" fill=\"none\"/>\n",
              "    <path d=\"M18.56 5.44l.94 2.06.94-2.06 2.06-.94-2.06-.94-.94-2.06-.94 2.06-2.06.94zm-11 1L8.5 8.5l.94-2.06 2.06-.94-2.06-.94L8.5 2.5l-.94 2.06-2.06.94zm10 10l.94 2.06.94-2.06 2.06-.94-2.06-.94-.94-2.06-.94 2.06-2.06.94z\"/><path d=\"M17.41 7.96l-1.37-1.37c-.4-.4-.92-.59-1.43-.59-.52 0-1.04.2-1.43.59L10.3 9.45l-7.72 7.72c-.78.78-.78 2.05 0 2.83L4 21.41c.39.39.9.59 1.41.59.51 0 1.02-.2 1.41-.59l7.78-7.78 2.81-2.81c.8-.78.8-2.07 0-2.86zM5.41 20L4 18.59l7.72-7.72 1.47 1.35L5.41 20z\"/>\n",
              "  </svg>\n",
              "      </button>\n",
              "      \n",
              "  <style>\n",
              "    .colab-df-container {\n",
              "      display:flex;\n",
              "      flex-wrap:wrap;\n",
              "      gap: 12px;\n",
              "    }\n",
              "\n",
              "    .colab-df-convert {\n",
              "      background-color: #E8F0FE;\n",
              "      border: none;\n",
              "      border-radius: 50%;\n",
              "      cursor: pointer;\n",
              "      display: none;\n",
              "      fill: #1967D2;\n",
              "      height: 32px;\n",
              "      padding: 0 0 0 0;\n",
              "      width: 32px;\n",
              "    }\n",
              "\n",
              "    .colab-df-convert:hover {\n",
              "      background-color: #E2EBFA;\n",
              "      box-shadow: 0px 1px 2px rgba(60, 64, 67, 0.3), 0px 1px 3px 1px rgba(60, 64, 67, 0.15);\n",
              "      fill: #174EA6;\n",
              "    }\n",
              "\n",
              "    [theme=dark] .colab-df-convert {\n",
              "      background-color: #3B4455;\n",
              "      fill: #D2E3FC;\n",
              "    }\n",
              "\n",
              "    [theme=dark] .colab-df-convert:hover {\n",
              "      background-color: #434B5C;\n",
              "      box-shadow: 0px 1px 3px 1px rgba(0, 0, 0, 0.15);\n",
              "      filter: drop-shadow(0px 1px 2px rgba(0, 0, 0, 0.3));\n",
              "      fill: #FFFFFF;\n",
              "    }\n",
              "  </style>\n",
              "\n",
              "      <script>\n",
              "        const buttonEl =\n",
              "          document.querySelector('#df-08c43a97-de95-4347-9c1d-85d36a94b046 button.colab-df-convert');\n",
              "        buttonEl.style.display =\n",
              "          google.colab.kernel.accessAllowed ? 'block' : 'none';\n",
              "\n",
              "        async function convertToInteractive(key) {\n",
              "          const element = document.querySelector('#df-08c43a97-de95-4347-9c1d-85d36a94b046');\n",
              "          const dataTable =\n",
              "            await google.colab.kernel.invokeFunction('convertToInteractive',\n",
              "                                                     [key], {});\n",
              "          if (!dataTable) return;\n",
              "\n",
              "          const docLinkHtml = 'Like what you see? Visit the ' +\n",
              "            '<a target=\"_blank\" href=https://colab.research.google.com/notebooks/data_table.ipynb>data table notebook</a>'\n",
              "            + ' to learn more about interactive tables.';\n",
              "          element.innerHTML = '';\n",
              "          dataTable['output_type'] = 'display_data';\n",
              "          await google.colab.output.renderOutput(dataTable, element);\n",
              "          const docLink = document.createElement('div');\n",
              "          docLink.innerHTML = docLinkHtml;\n",
              "          element.appendChild(docLink);\n",
              "        }\n",
              "      </script>\n",
              "    </div>\n",
              "  </div>\n",
              "  "
            ],
            "text/plain": [
              "              Age   RestingBP  Cholesterol   FastingBS       MaxHR  \\\n",
              "count  918.000000  917.000000   918.000000  918.000000  918.000000   \n",
              "mean    53.510893  132.540894   244.635389    0.233115  136.809368   \n",
              "std      9.432617   17.999749    53.318029    0.423046   25.460334   \n",
              "min     28.000000   80.000000    85.000000    0.000000   60.000000   \n",
              "25%     47.000000  120.000000   214.000000    0.000000  120.000000   \n",
              "50%     54.000000  130.000000   244.635389    0.000000  138.000000   \n",
              "75%     60.000000  140.000000   267.000000    0.000000  156.000000   \n",
              "max     77.000000  200.000000   603.000000    1.000000  202.000000   \n",
              "\n",
              "          Oldpeak  HeartDisease  \n",
              "count  918.000000    918.000000  \n",
              "mean     0.887364      0.553377  \n",
              "std      1.066570      0.497414  \n",
              "min     -2.600000      0.000000  \n",
              "25%      0.000000      0.000000  \n",
              "50%      0.600000      1.000000  \n",
              "75%      1.500000      1.000000  \n",
              "max      6.200000      1.000000  "
            ]
          },
          "execution_count": 29,
          "metadata": {},
          "output_type": "execute_result"
        }
      ],
      "source": [
        "#apenas para valores numericos obviamente\n",
        "dados2.describe()"
      ]
    },
    {
      "cell_type": "code",
      "execution_count": null,
      "metadata": {
        "id": "zvTpV7Rb5xiQ"
      },
      "outputs": [],
      "source": [
        "# O unico que nao aparece no descrbe é a moda que pode ser bizualizada separadamente desta forma \n",
        "dados2.mode()"
      ]
    },
    {
      "cell_type": "markdown",
      "metadata": {
        "id": "_kYTOCiy6l1i"
      },
      "source": [
        "##Tratando valores incoerentes"
      ]
    },
    {
      "cell_type": "markdown",
      "metadata": {
        "id": "SlqD26LU6zbZ"
      },
      "source": [
        "pressao anterial = 0"
      ]
    },
    {
      "cell_type": "markdown",
      "metadata": {
        "id": "PHO2Z_g87sa7"
      },
      "source": [
        "Substituindo valores zero pela media"
      ]
    },
    {
      "cell_type": "code",
      "execution_count": null,
      "metadata": {
        "id": "QEsH1yLV6sd4"
      },
      "outputs": [],
      "source": [
        "dados2 = dados.loc[dados.Cholesterol != 0]\n"
      ]
    },
    {
      "cell_type": "code",
      "execution_count": null,
      "metadata": {
        "id": "PMOguxnz884T"
      },
      "outputs": [],
      "source": [
        "#Colesterol substituindo valor 0 por nulo\n",
        "dados2.Cholesterol.replace(0, np.NaN, inplace=True)"
      ]
    },
    {
      "cell_type": "code",
      "execution_count": null,
      "metadata": {
        "id": "6Jh0PHCI3Axr"
      },
      "outputs": [],
      "source": [
        "#substituir valores nulos pela média\n",
        "dados2['Cholesterol'].fillna(dados2['Cholesterol'].mean(), inplace=True);"
      ]
    },
    {
      "cell_type": "markdown",
      "metadata": {
        "id": "hySsCA7-tZtj"
      },
      "source": [
        "## Análise de Outliers"
      ]
    },
    {
      "cell_type": "code",
      "execution_count": null,
      "metadata": {
        "id": "tqriM6w1tcwf"
      },
      "outputs": [],
      "source": [
        "#idade\n",
        "px.box(dados2, y='Age')\n"
      ]
    },
    {
      "cell_type": "code",
      "source": [
        "#pressao\n",
        "px.box(dados2, y='RestingBP')"
      ],
      "metadata": {
        "id": "XAcU1C8PxZET"
      },
      "execution_count": null,
      "outputs": []
    },
    {
      "cell_type": "code",
      "source": [
        "#colesterol\n",
        "px.box(dados2, y='Cholesterol')"
      ],
      "metadata": {
        "id": "_vjjL0W2xdh4"
      },
      "execution_count": null,
      "outputs": []
    },
    {
      "cell_type": "code",
      "source": [
        "dados2.to_csv('heart_tratado.csv', sep=';', encoding='utf-8', index=False)"
      ],
      "metadata": {
        "id": "tl54_75bxtRh"
      },
      "execution_count": 63,
      "outputs": []
    }
  ],
  "metadata": {
    "colab": {
      "provenance": [],
      "mount_file_id": "11RgvobxZPSza5J5R0Y2R7LbXzLKxiI3c",
      "authorship_tag": "ABX9TyP1BUumPBQTcjfqK7jF7eaq",
      "include_colab_link": true
    },
    "kernelspec": {
      "display_name": "Python 3",
      "name": "python3"
    },
    "language_info": {
      "name": "python"
    }
  },
  "nbformat": 4,
  "nbformat_minor": 0
}